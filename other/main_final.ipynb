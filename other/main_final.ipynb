{
 "cells": [
  {
   "cell_type": "code",
   "id": "c3d67729f66ef9a1",
   "metadata": {
    "collapsed": true,
    "ExecuteTime": {
     "end_time": "2024-08-08T08:44:00.721716Z",
     "start_time": "2024-08-08T08:44:00.098157Z"
    }
   },
   "source": [
    "import os\n",
    "from multiple_layout_generator import nmos_cm\n",
    "from Extractor.extract import *"
   ],
   "outputs": [],
   "execution_count": 1
  },
  {
   "metadata": {},
   "cell_type": "markdown",
   "source": "### Create Current mirror Layouts",
   "id": "9ed5a2b31a6e2305"
  },
  {
   "metadata": {
    "ExecuteTime": {
     "end_time": "2024-08-08T08:44:04.998820Z",
     "start_time": "2024-08-08T08:44:04.808971Z"
    }
   },
   "cell_type": "code",
   "source": "nmos_cm(12, 12, 14e-9, source_first=True)",
   "id": "initial_id",
   "outputs": [
    {
     "name": "stdout",
     "output_type": "stream",
     "text": [
      "[(1, 12), (2, 6), (3, 4), (4, 3), (6, 2)]\n",
      "Function 'nmos_cm' executed in 0.1840 seconds\n"
     ]
    }
   ],
   "execution_count": 2
  },
  {
   "metadata": {
    "ExecuteTime": {
     "end_time": "2024-08-08T08:44:06.893684Z",
     "start_time": "2024-08-08T08:44:06.507908Z"
    }
   },
   "cell_type": "code",
   "source": [
    "# Specify the directory path\n",
    "path = 'outputs/'\n",
    "files = [f for f in os.listdir(path) if os.path.isfile(os.path.join(path, f))]\n",
    "for layouts in files:\n",
    "    file_name = path+files[0].split('.')[0]\n",
    "    print(file_name)\n",
    "    pex(file_name)"
   ],
   "id": "6c6e742048b2c08d",
   "outputs": [
    {
     "name": "stdout",
     "output_type": "stream",
     "text": [
      "outputs/nmos_cm_1_1\n",
      "0 ['s', 's:19', 2.688]\n",
      "1 ['s', 's:18', 0.84]\n",
      "2 ['s', 's:13', 1.092]\n",
      "3 ['s', 's:3', 8.092]\n",
      "4 ['s:3', 's:0', 21.672]\n",
      "5 ['s:3', 's:1', 8.092]\n",
      "6 ['s:3', 's:15', 3.92]\n",
      "7 ['s:15', 's:2', 1.092]\n",
      "8 ['s:2', 's:24', 2.688]\n",
      "9 ['s:2', 'MN1@0:s', 14]\n",
      "10 ['s:2', 's:23', 0.84]\n",
      "11 ['s:2', 'MN1@0:s', 14]\n",
      "12 ['s:2', 's:14', 1.092]\n",
      "13 ['s:2', 'MN1@0:s', 14]\n",
      "14 ['s:23', 's:10', 1.288]\n",
      "15 ['s:23', 'MN1@0:s', 14]\n",
      "16 ['s:24', 's:25', 3.528]\n",
      "17 ['s:24', 'MN1@0:s', 14]\n",
      "18 ['s:25', 's:26', 3.528]\n",
      "19 ['s:25', 'MN1@0:s', 14]\n",
      "20 ['s:26', 's:27', 3.528]\n",
      "21 ['s:26', 'MN1@0:s', 14]\n",
      "22 ['s:27', 's:11', 1.008]\n",
      "23 ['s:27', 'MN1@0:s', 14]\n",
      "24 ['s:1', 's:19', 2.688]\n",
      "25 ['s:1', 'MN0@0:s', 14]\n",
      "26 ['s:1', 's:18', 0.84]\n",
      "27 ['s:1', 'MN0@0:s', 14]\n",
      "28 ['s:1', 's:13', 1.092]\n",
      "29 ['s:1', 'MN0@0:s', 14]\n",
      "30 ['s:18', 's:6', 1.288]\n",
      "31 ['s:18', 'MN0@0:s', 14]\n",
      "32 ['s:19', 's:20', 3.528]\n",
      "33 ['s:19', 'MN0@0:s', 14]\n",
      "34 ['s:20', 's:21', 3.528]\n",
      "35 ['s:20', 'MN0@0:s', 14]\n",
      "36 ['s:21', 's:22', 3.528]\n",
      "37 ['s:21', 'MN0@0:s', 14]\n",
      "38 ['s:22', 's:7', 1.008]\n",
      "39 ['s:22', 'MN0@0:s', 14]\n",
      "40 ['s:0', 's:16', 1.092]\n",
      "41 ['s:0', 's:12', 5.88]\n",
      "42 ['s:0', 's:8', 4.984]\n",
      "43 ['s:8', 's:5', 1.12]\n",
      "44 ['s:5', 's:9', 1.12]\n",
      "45 ['s:5', 'MN1@0:b', 14]\n",
      "46 ['s:12', 's:17', 1.12]\n",
      "47 ['s:17', 's:4', 1.12]\n",
      "48 ['s:17', 'MN0@0:b', 14]\n",
      "0 ['d0', 'd0:12', 2.24]\n",
      "1 ['d0', 'd0:2', 0.588]\n",
      "2 ['d0', 'd0:10', 0.728]\n",
      "3 ['d0', 'd0:11', 0.728]\n",
      "4 ['d0:11', 'd0:0', 0.728]\n",
      "5 ['d0:0', 'd0:12', 2.24]\n",
      "6 ['d0:0', 'd0:2', 0.588]\n",
      "7 ['d0:0', 'd0:10', 0.728]\n",
      "8 ['d0:12', 'd0:13', 3.528]\n",
      "9 ['d0:12', 'MN0@0:d', 14]\n",
      "10 ['d0:13', 'd0:14', 3.528]\n",
      "11 ['d0:13', 'MN0@0:d', 14]\n",
      "12 ['d0:14', 'd0:15', 3.528]\n",
      "13 ['d0:14', 'MN0@0:d', 14]\n",
      "14 ['d0:15', 'd0:16', 3.528]\n",
      "15 ['d0:15', 'MN0@0:d', 14]\n",
      "16 ['d0:16', 'd0:3', 1.008]\n",
      "17 ['d0:16', 'MN0@0:d', 14]\n",
      "18 ['d0:3', 'd0:8', 1.092]\n",
      "19 ['d0:8', 'd0:17', 2.269]\n",
      "20 ['d0:17', 'd0:4', 2.114]\n",
      "21 ['d0:17', 'M:g', 342]\n",
      "22 ['d0:17', 'M:g', 342]\n",
      "23 ['d0:17', 'd0:1', 1.162]\n",
      "24 ['d0:17', 'M:g', 342]\n",
      "25 ['d0:17', 'M:g', 342]\n",
      "26 ['d0:1', 'd0:5', 1.092]\n",
      "27 ['d0:5', 'd0:6', 8.736]\n",
      "28 ['d0:6', 'd0:18', 2.114]\n",
      "29 ['d0:18', 'd0:7', 2.254]\n",
      "30 ['d0:18', 'M:g', 342]\n",
      "31 ['d0:18', 'M:g', 342]\n",
      "0 ['d1', 'd1:3', 0.952]\n",
      "1 ['d1:3', 'd1:5', 1.288]\n",
      "2 ['d1:3', 'd1:0', 0.952]\n",
      "3 ['d1:5', 'd1:6', 3.528]\n",
      "4 ['d1:5', 'MN1@0:d', 14]\n",
      "5 ['d1:6', 'd1:7', 3.528]\n",
      "6 ['d1:6', 'MN1@0:d', 14]\n",
      "7 ['d1:7', 'd1:8', 3.528]\n",
      "8 ['d1:7', 'MN1@0:d', 14]\n",
      "9 ['d1:8', 'd1:9', 3.528]\n",
      "10 ['d1:8', 'MN1@0:d', 14]\n",
      "11 ['d1:9', 'd1:4', 1.008]\n",
      "12 ['d1:9', 'MN1@0:d', 14]\n"
     ]
    },
    {
     "ename": "FileNotFoundError",
     "evalue": "[Errno 2] No such file or directory: 'templates/dspf_wrapper.txt'",
     "output_type": "error",
     "traceback": [
      "\u001B[1;31m---------------------------------------------------------------------------\u001B[0m",
      "\u001B[1;31mFileNotFoundError\u001B[0m                         Traceback (most recent call last)",
      "Cell \u001B[1;32mIn[3], line 7\u001B[0m\n\u001B[0;32m      5\u001B[0m file_name \u001B[38;5;241m=\u001B[39m path\u001B[38;5;241m+\u001B[39mfiles[\u001B[38;5;241m0\u001B[39m]\u001B[38;5;241m.\u001B[39msplit(\u001B[38;5;124m'\u001B[39m\u001B[38;5;124m.\u001B[39m\u001B[38;5;124m'\u001B[39m)[\u001B[38;5;241m0\u001B[39m]\n\u001B[0;32m      6\u001B[0m \u001B[38;5;28mprint\u001B[39m(file_name)\n\u001B[1;32m----> 7\u001B[0m \u001B[43mpex\u001B[49m\u001B[43m(\u001B[49m\u001B[43mfile_name\u001B[49m\u001B[43m)\u001B[49m\n",
      "File \u001B[1;32m~\\Desktop\\project_x\\Extractor\\extract.py:260\u001B[0m, in \u001B[0;36mpex\u001B[1;34m(file_path)\u001B[0m\n\u001B[0;32m    257\u001B[0m         inst_str \u001B[38;5;241m=\u001B[39m pr\u001B[38;5;241m.\u001B[39mget_mos_string(p\u001B[38;5;241m.\u001B[39mid, \u001B[38;5;124m\"\u001B[39m\u001B[38;5;124mnfet\u001B[39m\u001B[38;5;124m\"\u001B[39m, fins, \u001B[38;5;241m1\u001B[39m, \u001B[38;5;241m1\u001B[39m)\n\u001B[0;32m    258\u001B[0m         inst\u001B[38;5;241m.\u001B[39mappend(inst_str)\n\u001B[1;32m--> 260\u001B[0m \u001B[43mwrite_dspf\u001B[49m\u001B[43m(\u001B[49m\u001B[43mparasitics\u001B[49m\u001B[43m,\u001B[49m\u001B[43m \u001B[49m\u001B[43minst\u001B[49m\u001B[43m,\u001B[49m\u001B[43m \u001B[49m\u001B[43mfile_path\u001B[49m\u001B[38;5;241;43m+\u001B[39;49m\u001B[38;5;124;43m\"\u001B[39;49m\u001B[38;5;124;43m.dspf\u001B[39;49m\u001B[38;5;124;43m\"\u001B[39;49m\u001B[43m)\u001B[49m\n",
      "File \u001B[1;32m~\\Desktop\\project_x\\Extractor\\extract.py:49\u001B[0m, in \u001B[0;36mwrite_dspf\u001B[1;34m(parasitics, instances, file_name)\u001B[0m\n\u001B[0;32m     46\u001B[0m body \u001B[38;5;241m=\u001B[39m parasitics_string \u001B[38;5;241m+\u001B[39m \u001B[38;5;124m\"\u001B[39m\u001B[38;5;130;01m\\n\u001B[39;00m\u001B[38;5;124m\"\u001B[39m\u001B[38;5;241m*\u001B[39m\u001B[38;5;241m3\u001B[39m \u001B[38;5;241m+\u001B[39m instances_string\n\u001B[0;32m     47\u001B[0m contents \u001B[38;5;241m=\u001B[39m {\u001B[38;5;124m\"\u001B[39m\u001B[38;5;124mbody\u001B[39m\u001B[38;5;124m\"\u001B[39m:body, \u001B[38;5;124m\"\u001B[39m\u001B[38;5;124mdesign_name\u001B[39m\u001B[38;5;124m\"\u001B[39m:\u001B[38;5;124m\"\u001B[39m\u001B[38;5;124mnmos_dp_trial\u001B[39m\u001B[38;5;124m\"\u001B[39m, \u001B[38;5;124m\"\u001B[39m\u001B[38;5;124mports\u001B[39m\u001B[38;5;124m\"\u001B[39m: \u001B[38;5;124m\"\u001B[39m\u001B[38;5;124md0 d1 s\u001B[39m\u001B[38;5;124m\"\u001B[39m}\u001B[38;5;66;03m#\" \".join(port_names)}\u001B[39;00m\n\u001B[1;32m---> 49\u001B[0m \u001B[38;5;28;01mwith\u001B[39;00m \u001B[38;5;28mopen\u001B[39m(\u001B[38;5;124m\"\u001B[39m\u001B[38;5;124mtemplates/dspf_wrapper.txt\u001B[39m\u001B[38;5;124m\"\u001B[39m, \u001B[38;5;124m\"\u001B[39m\u001B[38;5;124mr\u001B[39m\u001B[38;5;124m\"\u001B[39m) \u001B[38;5;28;01mas\u001B[39;00m inp_file:\n\u001B[0;32m     50\u001B[0m     wrapper_text \u001B[38;5;241m=\u001B[39m inp_file\u001B[38;5;241m.\u001B[39mread()\n\u001B[0;32m     52\u001B[0m final_output \u001B[38;5;241m=\u001B[39m wrapper_text\u001B[38;5;241m.\u001B[39mformat(\u001B[38;5;241m*\u001B[39m\u001B[38;5;241m*\u001B[39mcontents)\n",
      "\u001B[1;31mFileNotFoundError\u001B[0m: [Errno 2] No such file or directory: 'templates/dspf_wrapper.txt'"
     ]
    }
   ],
   "execution_count": 3
  },
  {
   "metadata": {},
   "cell_type": "code",
   "outputs": [],
   "execution_count": null,
   "source": "",
   "id": "7e400f489fd90182"
  }
 ],
 "metadata": {
  "kernelspec": {
   "display_name": "Python 3",
   "language": "python",
   "name": "python3"
  },
  "language_info": {
   "codemirror_mode": {
    "name": "ipython",
    "version": 2
   },
   "file_extension": ".py",
   "mimetype": "text/x-python",
   "name": "python",
   "nbconvert_exporter": "python",
   "pygments_lexer": "ipython2",
   "version": "2.7.6"
  }
 },
 "nbformat": 4,
 "nbformat_minor": 5
}
