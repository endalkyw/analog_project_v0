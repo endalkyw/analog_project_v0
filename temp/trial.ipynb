{
 "cells": [
  {
   "cell_type": "code",
   "id": "d1e7fab69b55ba2b",
   "metadata": {
    "collapsed": true,
    "ExecuteTime": {
     "end_time": "2024-10-06T17:44:26.746442Z",
     "start_time": "2024-10-06T17:44:25.675207Z"
    }
   },
   "source": [
    "import gurobipy as gp\n",
    "from gurobipy import GRB\n",
    "import numpy as np"
   ],
   "outputs": [],
   "execution_count": 1
  },
  {
   "metadata": {
    "ExecuteTime": {
     "end_time": "2024-10-06T19:20:49.269566Z",
     "start_time": "2024-10-06T19:20:49.219236Z"
    }
   },
   "cell_type": "code",
   "source": [
    "# Define the callback function\n",
    "def my_callback(model, where):\n",
    "    if where == GRB.Callback.MIPNODE:\n",
    "        # This is called when a new MIP node is explored\n",
    "        status = model.cbGet(GRB.Callback.MIPNODE_STATUS)\n",
    "        if status == GRB.OPTIMAL:\n",
    "            # Get the current solution at this node (if optimal)\n",
    "            x_val = model.cbGetNodeRel(x)\n",
    "            y_val = model.cbGetNodeRel(y)\n",
    "            obj_val = model.cbGet(GRB.Callback.MIPNODE_OBJBST)\n",
    "            print(f\"MIPNODE: Current Best Obj = {obj_val}, x = {x_val}, y = {y_val}\")\n",
    "    \n",
    "    if where == GRB.Callback.MIPSOL:\n",
    "        # This is called when a new feasible solution is found\n",
    "        x_val = model.cbGetSolution(x)\n",
    "        y_val = model.cbGetSolution(y)\n",
    "        obj_val = model.cbGet(GRB.Callback.MIPSOL_OBJ)\n",
    "        print(f\"MIPSOL: Feasible Solution Found. Obj = {obj_val}, x = {x_val}, y = {y_val}\")\n",
    "\n",
    "# Create a new model\n",
    "model = gp.Model('nonlinear_model')\n",
    "model.Params.NonConvex = 2\n",
    "\n",
    "# Define variables\n",
    "x = model.addVar(lb=-GRB.INFINITY, ub=GRB.INFINITY, name=\"x\")\n",
    "y = model.addVar(lb=-GRB.INFINITY, ub=GRB.INFINITY, name=\"y\")\n",
    "\n",
    "# Set nonlinear objective (for example, x^2 + y^2)\n",
    "model.setObjective(x**2 + 23/(y**2), GRB.MINIMIZE)\n",
    "\n",
    "# Add constraints (example: nonlinear constraint x * y = 1)\n",
    "model.addConstr(x * y == 1, \"c1\")\n",
    "\n",
    "# Set parameters for the optimization\n",
    "model.Params.NonConvex = 2  # Required for non-convex problems\n",
    "\n",
    "# Optimize the model with the callback function\n",
    "model.optimize(callback=my_callback)\n",
    "\n",
    "# Get the final optimal solution\n",
    "if model.status == GRB.OPTIMAL:\n",
    "    print(f\"Optimal solution: x = {x.X}, y = {y.X}, Objective value = {model.objVal}\")\n",
    "else:\n",
    "    print(\"No optimal solution found\")"
   ],
   "id": "initial_id",
   "outputs": [
    {
     "name": "stdout",
     "output_type": "stream",
     "text": [
      "Set parameter NonConvex to value 2\n"
     ]
    },
    {
     "ename": "TypeError",
     "evalue": "unsupported operand type(s) for /: 'int' and 'gurobipy.QuadExpr'",
     "output_type": "error",
     "traceback": [
      "\u001B[1;31m---------------------------------------------------------------------------\u001B[0m",
      "\u001B[1;31mTypeError\u001B[0m                                 Traceback (most recent call last)",
      "Cell \u001B[1;32mIn[7], line 29\u001B[0m\n\u001B[0;32m     26\u001B[0m y \u001B[38;5;241m=\u001B[39m model\u001B[38;5;241m.\u001B[39maddVar(lb\u001B[38;5;241m=\u001B[39m\u001B[38;5;241m-\u001B[39mGRB\u001B[38;5;241m.\u001B[39mINFINITY, ub\u001B[38;5;241m=\u001B[39mGRB\u001B[38;5;241m.\u001B[39mINFINITY, name\u001B[38;5;241m=\u001B[39m\u001B[38;5;124m\"\u001B[39m\u001B[38;5;124my\u001B[39m\u001B[38;5;124m\"\u001B[39m)\n\u001B[0;32m     28\u001B[0m \u001B[38;5;66;03m# Set nonlinear objective (for example, x^2 + y^2)\u001B[39;00m\n\u001B[1;32m---> 29\u001B[0m model\u001B[38;5;241m.\u001B[39msetObjective(x\u001B[38;5;241m*\u001B[39m\u001B[38;5;241m*\u001B[39m\u001B[38;5;241m2\u001B[39m \u001B[38;5;241m+\u001B[39m \u001B[38;5;241;43m23\u001B[39;49m\u001B[38;5;241;43m/\u001B[39;49m\u001B[43m(\u001B[49m\u001B[43my\u001B[49m\u001B[38;5;241;43m*\u001B[39;49m\u001B[38;5;241;43m*\u001B[39;49m\u001B[38;5;241;43m2\u001B[39;49m\u001B[43m)\u001B[49m, GRB\u001B[38;5;241m.\u001B[39mMINIMIZE)\n\u001B[0;32m     31\u001B[0m \u001B[38;5;66;03m# Add constraints (example: nonlinear constraint x * y = 1)\u001B[39;00m\n\u001B[0;32m     32\u001B[0m model\u001B[38;5;241m.\u001B[39maddConstr(x \u001B[38;5;241m*\u001B[39m y \u001B[38;5;241m==\u001B[39m \u001B[38;5;241m1\u001B[39m, \u001B[38;5;124m\"\u001B[39m\u001B[38;5;124mc1\u001B[39m\u001B[38;5;124m\"\u001B[39m)\n",
      "\u001B[1;31mTypeError\u001B[0m: unsupported operand type(s) for /: 'int' and 'gurobipy.QuadExpr'"
     ]
    }
   ],
   "execution_count": 7
  },
  {
   "metadata": {},
   "cell_type": "code",
   "outputs": [],
   "execution_count": null,
   "source": "",
   "id": "33fa980676610f9b"
  },
  {
   "metadata": {
    "ExecuteTime": {
     "end_time": "2024-10-06T19:24:06.738379Z",
     "start_time": "2024-10-06T19:24:06.690419Z"
    }
   },
   "cell_type": "code",
   "source": [
    "import gurobipy as gp\n",
    "from gurobipy import GRB\n",
    "\n",
    "try:\n",
    "    # Create a new model\n",
    "    model = gp.Model(\"nonlinear_example\")\n",
    "\n",
    "    # Set NonConvex parameter to 2 (required for non-convex problems)\n",
    "    model.setParam('NonConvex', 2)\n",
    "\n",
    "    # Create variables\n",
    "    x = model.addVar(lb=0.1, vtype=GRB.CONTINUOUS, name=\"x\")\n",
    "    y = model.addVar(lb=0.0, vtype=GRB.CONTINUOUS, name=\"y\")\n",
    "\n",
    "    # Set the objective function: minimize 1/x + y^2\n",
    "    obj = (1 / x) + y * y\n",
    "    model.setObjective(obj, GRB.MINIMIZE)\n",
    "\n",
    "    # Add constraints: x + y >= 1\n",
    "    model.addConstr(x + y >= 1, \"c1\")\n",
    "\n",
    "    # Optimize model\n",
    "    model.optimize()\n",
    "\n",
    "    # Print optimal values of variables\n",
    "    if model.status == GRB.OPTIMAL:\n",
    "        print(f\"Optimal solution: x = {x.X}, y = {y.X}\")\n",
    "        print(f\"Objective value = {model.ObjVal}\")\n",
    "\n",
    "except gp.GurobiError as e:\n",
    "    print(f\"Gurobi Error: {e}\")\n",
    "\n",
    "except AttributeError as e:\n",
    "    print(f\"Attribute Error: {e}\")\n"
   ],
   "id": "6e672da352d3a3e5",
   "outputs": [
    {
     "name": "stdout",
     "output_type": "stream",
     "text": [
      "Set parameter NonConvex to value 2\n"
     ]
    },
    {
     "ename": "TypeError",
     "evalue": "unsupported operand type(s) for /: 'int' and 'Var'",
     "output_type": "error",
     "traceback": [
      "\u001B[1;31m---------------------------------------------------------------------------\u001B[0m",
      "\u001B[1;31mTypeError\u001B[0m                                 Traceback (most recent call last)",
      "Cell \u001B[1;32mIn[8], line 16\u001B[0m\n\u001B[0;32m     13\u001B[0m y \u001B[38;5;241m=\u001B[39m model\u001B[38;5;241m.\u001B[39maddVar(lb\u001B[38;5;241m=\u001B[39m\u001B[38;5;241m0.0\u001B[39m, vtype\u001B[38;5;241m=\u001B[39mGRB\u001B[38;5;241m.\u001B[39mCONTINUOUS, name\u001B[38;5;241m=\u001B[39m\u001B[38;5;124m\"\u001B[39m\u001B[38;5;124my\u001B[39m\u001B[38;5;124m\"\u001B[39m)\n\u001B[0;32m     15\u001B[0m \u001B[38;5;66;03m# Set the objective function: minimize 1/x + y^2\u001B[39;00m\n\u001B[1;32m---> 16\u001B[0m obj \u001B[38;5;241m=\u001B[39m (\u001B[38;5;241;43m1\u001B[39;49m\u001B[43m \u001B[49m\u001B[38;5;241;43m/\u001B[39;49m\u001B[43m \u001B[49m\u001B[43mx\u001B[49m) \u001B[38;5;241m+\u001B[39m y \u001B[38;5;241m*\u001B[39m y\n\u001B[0;32m     17\u001B[0m model\u001B[38;5;241m.\u001B[39msetObjective(obj, GRB\u001B[38;5;241m.\u001B[39mMINIMIZE)\n\u001B[0;32m     19\u001B[0m \u001B[38;5;66;03m# Add constraints: x + y >= 1\u001B[39;00m\n",
      "\u001B[1;31mTypeError\u001B[0m: unsupported operand type(s) for /: 'int' and 'Var'"
     ]
    }
   ],
   "execution_count": 8
  },
  {
   "metadata": {
    "ExecuteTime": {
     "end_time": "2024-10-06T19:37:37.212947Z",
     "start_time": "2024-10-06T19:37:37.201458Z"
    }
   },
   "cell_type": "code",
   "source": [
    "a = np.arange(2)\n",
    "print(a)"
   ],
   "id": "5c6b843cbd2e6546",
   "outputs": [
    {
     "name": "stdout",
     "output_type": "stream",
     "text": [
      "[0 1]\n"
     ]
    }
   ],
   "execution_count": 12
  },
  {
   "metadata": {},
   "cell_type": "code",
   "outputs": [],
   "execution_count": null,
   "source": "",
   "id": "baff66ad372938f4"
  }
 ],
 "metadata": {
  "kernelspec": {
   "display_name": "Python 3",
   "language": "python",
   "name": "python3"
  },
  "language_info": {
   "codemirror_mode": {
    "name": "ipython",
    "version": 2
   },
   "file_extension": ".py",
   "mimetype": "text/x-python",
   "name": "python",
   "nbconvert_exporter": "python",
   "pygments_lexer": "ipython2",
   "version": "2.7.6"
  }
 },
 "nbformat": 4,
 "nbformat_minor": 5
}
