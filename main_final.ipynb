{
 "cells": [
  {
   "cell_type": "code",
   "id": "c3d67729f66ef9a1",
   "metadata": {
    "collapsed": true,
    "ExecuteTime": {
     "end_time": "2024-08-08T08:44:00.721716Z",
     "start_time": "2024-08-08T08:44:00.098157Z"
    }
   },
   "source": [
    "import os\n",
    "from multiple_layout_generator import nmos_cm\n",
    "from pex.extract import *"
   ],
   "execution_count": 1,
   "outputs": []
  },
  {
   "metadata": {},
   "cell_type": "markdown",
   "source": "### Create Current mirror Layouts",
   "id": "9ed5a2b31a6e2305"
  },
  {
   "metadata": {
    "ExecuteTime": {
     "end_time": "2024-08-08T08:44:04.998820Z",
     "start_time": "2024-08-08T08:44:04.808971Z"
    }
   },
   "cell_type": "code",
   "source": "nmos_cm(12, 12, 14e-9, source_first=True)",
   "id": "initial_id",
   "execution_count": 2,
   "outputs": []
  },
  {
   "metadata": {
    "ExecuteTime": {
     "end_time": "2024-08-08T08:44:06.893684Z",
     "start_time": "2024-08-08T08:44:06.507908Z"
    }
   },
   "cell_type": "code",
   "source": [
    "# Specify the directory path\n",
    "path = 'outputs/'\n",
    "files = [f for f in os.listdir(path) if os.path.isfile(os.path.join(path, f))]\n",
    "for layouts in files:\n",
    "    file_name = path+files[0].split('.')[0]\n",
    "    print(file_name)\n",
    "    pex(file_name)"
   ],
   "id": "6c6e742048b2c08d",
   "execution_count": 3,
   "outputs": []
  },
  {
   "metadata": {},
   "cell_type": "code",
   "execution_count": null,
   "source": "",
   "id": "7e400f489fd90182",
   "outputs": []
  }
 ],
 "metadata": {
  "kernelspec": {
   "display_name": "Python 3",
   "language": "python",
   "name": "python3"
  },
  "language_info": {
   "codemirror_mode": {
    "name": "ipython",
    "version": 2
   },
   "file_extension": ".py",
   "mimetype": "text/x-python",
   "name": "python",
   "nbconvert_exporter": "python",
   "pygments_lexer": "ipython2",
   "version": "2.7.6"
  }
 },
 "nbformat": 4,
 "nbformat_minor": 5
}
